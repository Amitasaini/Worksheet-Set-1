{
 "cells": [
  {
   "cell_type": "markdown",
   "id": "11dc2cb2",
   "metadata": {},
   "source": [
    "Q11 Write a python function print pyramid of stars. Level of the pyramid should be taken as an input from the user. E.g.\n",
    "Input = 5\n",
    "Output:"
   ]
  },
  {
   "cell_type": "code",
   "execution_count": 4,
   "id": "715c1dd3",
   "metadata": {},
   "outputs": [
    {
     "name": "stdout",
     "output_type": "stream",
     "text": [
      "Full Pyramid Pattern of Stars (*): \n",
      "      * \n",
      "     * * \n",
      "    * * * \n",
      "   * * * * \n",
      "  * * * * * \n"
     ]
    }
   ],
   "source": [
    "print(\"Full Pyramid Pattern of Stars (*): \")\n",
    "for i in range(5):\n",
    "    for s in range(-6, -i):\n",
    "        print(\" \", end=\"\")\n",
    "    for j in range(i+1):\n",
    "        print(\"* \", end=\"\")\n",
    "    print()"
   ]
  },
  {
   "cell_type": "markdown",
   "id": "ca616775",
   "metadata": {},
   "source": [
    "12. Write a python function print Hourglass pattern. E.g.\n",
    "Input = 5\n",
    "Output:"
   ]
  },
  {
   "cell_type": "code",
   "execution_count": 15,
   "id": "b7dddf5e",
   "metadata": {},
   "outputs": [
    {
     "name": "stdout",
     "output_type": "stream",
     "text": [
      "Enter number of rows: 5\n",
      "Generated Hourglass Pattern is: \n",
      "*********\n",
      " *******\n",
      "  *****\n",
      "   ***\n",
      "    *\n",
      "   ***\n",
      "  *****\n",
      " *******\n",
      "*********\n"
     ]
    }
   ],
   "source": [
    "row = int(input(\"Enter number of rows: \"))\n",
    "\n",
    "print(\"Generated Hourglass Pattern is: \")\n",
    "# Upper-half\n",
    "for i in range(row, 0, -1):\n",
    "    for j in range(row-i):\n",
    "        print(\" \", end=\"\")\n",
    "    for j in range(1, 2*i):\n",
    "        print(\"*\", end=\"\")\n",
    "    print()\n",
    "\n",
    "# Lower-half\n",
    "for i in range(2, row+1):\n",
    "    for j in range(row-i):\n",
    "        print(\" \", end=\"\")\n",
    "    for j in range(1, 2*i):\n",
    "        print(\"*\", end=\"\")\n",
    "    print()"
   ]
  },
  {
   "cell_type": "markdown",
   "id": "a2708cc5",
   "metadata": {},
   "source": [
    "Q13 Write a python function to print Pascal’s Triangle. The number of levels in the triangle must be taken as input by the user. E.g.\n",
    "Input = 5"
   ]
  },
  {
   "cell_type": "code",
   "execution_count": 9,
   "id": "c947fd30",
   "metadata": {},
   "outputs": [
    {
     "name": "stdout",
     "output_type": "stream",
     "text": [
      "     \n",
      "    1 \n",
      "   1 1 \n",
      "  1 2 1 \n",
      " 1 3 3 1 \n",
      "1 4 6 4 1 \n"
     ]
    }
   ],
   "source": [
    "def solve(n):\n",
    "   for i in range(n+1):\n",
    "      for j in range(n-i):\n",
    "         print(' ', end='')\n",
    "\n",
    "      C = 1\n",
    "      for j in range(1, i+1):\n",
    "         print(C, ' ', sep='', end='')\n",
    "         C = C * (i - j) // j\n",
    "      print()\n",
    "\n",
    "n = 5\n",
    "solve(n)"
   ]
  },
  {
   "cell_type": "markdown",
   "id": "76255b73",
   "metadata": {},
   "source": [
    "Q14 Write a python function to print Diamond Shaped Pattern shown below. Function must take integer input which represents the number of stars in the middle most line. E.g.:\n",
    "Input = 5"
   ]
  },
  {
   "cell_type": "code",
   "execution_count": 12,
   "id": "8bf72b1d",
   "metadata": {},
   "outputs": [
    {
     "name": "stdout",
     "output_type": "stream",
     "text": [
      "please enter diamond's height:5\n",
      "   *\n",
      "  ***\n",
      " *****\n",
      "  ***\n",
      "   *\n"
     ]
    }
   ],
   "source": [
    "h = int(input(\"please enter diamond's height:\"))\n",
    "\n",
    "for i in range(1, h, 2):\n",
    "    print(\" \"*(h//2-i//2), \"*\"*i)\n",
    "for i in range(h, 0, -2):\n",
    "    print(\" \"*(h//2-i//2), \"*\"*i)"
   ]
  },
  {
   "cell_type": "markdown",
   "id": "a391d631",
   "metadata": {},
   "source": [
    "Q15 Write a python function to print Diamond Shaped Character Pattern shown below. Function must take integer input within range 1 to 26, which represents the rank of the alphabet. E.g.:\n",
    "Input = 5"
   ]
  },
  {
   "cell_type": "code",
   "execution_count": null,
   "id": "5204f0f6",
   "metadata": {},
   "outputs": [],
   "source": [
    "# Number of rows.\n",
    "row = 5.\n",
    "​\n",
    "# Upper part of hollow diamond.\n",
    "for i in range(1, row+1):\n",
    "for j in range(1,row-i+1):\n",
    "print(\" \", end=\"\")\n",
    "for j in range(1, 2*i)"
   ]
  },
  {
   "cell_type": "code",
   "execution_count": null,
   "id": "8ee302dd",
   "metadata": {},
   "outputs": [],
   "source": []
  }
 ],
 "metadata": {
  "kernelspec": {
   "display_name": "Python 3 (ipykernel)",
   "language": "python",
   "name": "python3"
  },
  "language_info": {
   "codemirror_mode": {
    "name": "ipython",
    "version": 3
   },
   "file_extension": ".py",
   "mimetype": "text/x-python",
   "name": "python",
   "nbconvert_exporter": "python",
   "pygments_lexer": "ipython3",
   "version": "3.9.7"
  }
 },
 "nbformat": 4,
 "nbformat_minor": 5
}
